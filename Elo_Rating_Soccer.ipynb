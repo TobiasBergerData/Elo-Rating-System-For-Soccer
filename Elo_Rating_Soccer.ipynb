{
 "cells": [
  {
   "cell_type": "markdown",
   "id": "f2d8078a",
   "metadata": {},
   "source": [
    "# Creating an Elo Rating System for Soccer"
   ]
  },
  {
   "cell_type": "markdown",
   "id": "155f6932",
   "metadata": {},
   "source": [
    "## What is an Elo Rating and why is it useful for soccer?"
   ]
  },
  {
   "cell_type": "markdown",
   "id": "2fb5803b",
   "metadata": {},
   "source": [
    "I asked ChatGPT to answer this question:\n",
    "\n",
    "An Elo Rating, or simply Elo, is a rating system used to measure the relative skill levels of players or teams in two-player or multiplayer competitive games and sports. It was originally developed for chess by Arpad Elo but has been widely adopted in various sports, including soccer. The Elo rating system provides a numerical representation of a player's or team's skill, making it easier to compare and rank them. \n",
    "\n",
    "In soccer, Elo ratings can be applied to both club teams and national teams, offering a standardized way to evaluate and rank their performances. While other rating systems exist, Elo remains a popular choice due to its simplicity and effectiveness in capturing the competitive nature of the sport. It has been used to rank and compare soccer teams, track performance over seasons, and aid in the scheduling of matches and tournaments to ensure fair play."
   ]
  },
  {
   "cell_type": "markdown",
   "id": "6c6bc5cb",
   "metadata": {},
   "source": [
    "## How is it calculated? And can you explain the variables R, s and k in this context?"
   ]
  },
  {
   "cell_type": "markdown",
   "id": "71b2b4ca",
   "metadata": {},
   "source": [
    "The Elo rating system calculates a player's or team's new rating based on the outcome of a game or match. The formula used for the calculation is as follows:\n",
    "\n",
    "R' = R + K * (S - E)\n",
    "\n",
    "Where:\n",
    "\n",
    "R': The new rating after the game.\n",
    "R: The current rating before the game.\n",
    "K: The K-factor, which determines the impact of a single game on the rating.\n",
    "S: The outcome of the game (1 for a win, 0.5 for a draw, 0 for a loss).\n",
    "E: The expected outcome, which is calculated using the logistic function.\n",
    "Now, let's break down the variables in the context of soccer:\n",
    "\n",
    "R (Rating): This is the current rating of the player or team before the game. It represents their skill level, and it's a numerical value assigned based on their previous performance. For soccer teams, the R rating is typically used to assess their skill and competitiveness.\n",
    "\n",
    "K-Factor (K): The K-factor is a constant that determines the weight or impact of a single game on the rating. In the context of soccer, the K-factor is used to reflect the degree of uncertainty in a team's skill level. Higher K-factors are applied to less experienced teams or teams with limited performance history, making their ratings more sensitive to individual games. More experienced and established teams have lower K-factors, meaning that their ratings change less with each game.\n",
    "\n",
    "S (Outcome): In soccer, the outcome (S) is typically represented as a binary result:\n",
    "\n",
    "1 for a win: A team gets a full point if they win the game.\n",
    "0.5 for a draw: Both teams get a half point in the case of a draw.\n",
    "0 for a loss: A team gets no points for a loss.\n",
    "E (Expected Outcome): The expected outcome (E) is calculated using a logistic function and is based on the Elo ratings of the two competing teams. In the context of soccer, it represents the probability of winning, drawing, or losing the match based on the current Elo ratings.\n",
    "\n",
    "The Elo system then adjusts the team's or player's rating based on the difference between the actual outcome (S) and the expected outcome (E). If a team with a lower Elo rating beats a team with a higher Elo rating, the winning team's rating will increase significantly, while the losing team's rating will decrease.\n",
    "\n",
    "This adjustment ensures that over time, the ratings accurately reflect the true skill levels of teams or players, making the Elo system a valuable tool for ranking and comparing soccer teams."
   ]
  },
  {
   "cell_type": "markdown",
   "id": "a2b9d9ab",
   "metadata": {},
   "source": [
    "#### Loading libraries"
   ]
  },
  {
   "cell_type": "code",
   "execution_count": 3,
   "id": "a395d9fc",
   "metadata": {},
   "outputs": [],
   "source": [
    "from statsbombpy import sb\n",
    "import pandas as pd\n",
    "import numpy as np\n",
    "import plotly.graph_objects as go\n"
   ]
  },
  {
   "cell_type": "markdown",
   "id": "10d59d99",
   "metadata": {},
   "source": [
    "#### Get the data"
   ]
  },
  {
   "cell_type": "code",
   "execution_count": 4,
   "id": "db757a69",
   "metadata": {},
   "outputs": [
    {
     "name": "stderr",
     "output_type": "stream",
     "text": [
      "c:\\Users\\tobia\\AppData\\Local\\Programs\\Python\\Python311\\Lib\\site-packages\\statsbombpy\\api_client.py:21: NoAuthWarning: credentials were not supplied. open data access only\n",
      "  warnings.warn(\n"
     ]
    },
    {
     "data": {
      "text/html": [
       "<div>\n",
       "<style scoped>\n",
       "    .dataframe tbody tr th:only-of-type {\n",
       "        vertical-align: middle;\n",
       "    }\n",
       "\n",
       "    .dataframe tbody tr th {\n",
       "        vertical-align: top;\n",
       "    }\n",
       "\n",
       "    .dataframe thead th {\n",
       "        text-align: right;\n",
       "    }\n",
       "</style>\n",
       "<table border=\"1\" class=\"dataframe\">\n",
       "  <thead>\n",
       "    <tr style=\"text-align: right;\">\n",
       "      <th></th>\n",
       "      <th>competition_id</th>\n",
       "      <th>season_id</th>\n",
       "      <th>country_name</th>\n",
       "      <th>competition_name</th>\n",
       "      <th>competition_gender</th>\n",
       "      <th>competition_youth</th>\n",
       "      <th>competition_international</th>\n",
       "      <th>season_name</th>\n",
       "      <th>match_updated</th>\n",
       "      <th>match_updated_360</th>\n",
       "      <th>match_available_360</th>\n",
       "      <th>match_available</th>\n",
       "    </tr>\n",
       "  </thead>\n",
       "  <tbody>\n",
       "    <tr>\n",
       "      <th>0</th>\n",
       "      <td>9</td>\n",
       "      <td>27</td>\n",
       "      <td>Germany</td>\n",
       "      <td>1. Bundesliga</td>\n",
       "      <td>male</td>\n",
       "      <td>False</td>\n",
       "      <td>False</td>\n",
       "      <td>2015/2016</td>\n",
       "      <td>2023-08-17T23:51:11.837478</td>\n",
       "      <td>None</td>\n",
       "      <td>None</td>\n",
       "      <td>2023-08-17T23:51:11.837478</td>\n",
       "    </tr>\n",
       "    <tr>\n",
       "      <th>1</th>\n",
       "      <td>16</td>\n",
       "      <td>4</td>\n",
       "      <td>Europe</td>\n",
       "      <td>Champions League</td>\n",
       "      <td>male</td>\n",
       "      <td>False</td>\n",
       "      <td>False</td>\n",
       "      <td>2018/2019</td>\n",
       "      <td>2023-03-07T12:20:48.118250</td>\n",
       "      <td>2021-06-13T16:17:31.694</td>\n",
       "      <td>None</td>\n",
       "      <td>2023-03-07T12:20:48.118250</td>\n",
       "    </tr>\n",
       "    <tr>\n",
       "      <th>2</th>\n",
       "      <td>16</td>\n",
       "      <td>1</td>\n",
       "      <td>Europe</td>\n",
       "      <td>Champions League</td>\n",
       "      <td>male</td>\n",
       "      <td>False</td>\n",
       "      <td>False</td>\n",
       "      <td>2017/2018</td>\n",
       "      <td>2021-08-27T11:26:39.802832</td>\n",
       "      <td>2021-06-13T16:17:31.694</td>\n",
       "      <td>None</td>\n",
       "      <td>2021-01-23T21:55:30.425330</td>\n",
       "    </tr>\n",
       "    <tr>\n",
       "      <th>3</th>\n",
       "      <td>16</td>\n",
       "      <td>2</td>\n",
       "      <td>Europe</td>\n",
       "      <td>Champions League</td>\n",
       "      <td>male</td>\n",
       "      <td>False</td>\n",
       "      <td>False</td>\n",
       "      <td>2016/2017</td>\n",
       "      <td>2021-08-27T11:26:39.802832</td>\n",
       "      <td>2021-06-13T16:17:31.694</td>\n",
       "      <td>None</td>\n",
       "      <td>2020-07-29T05:00</td>\n",
       "    </tr>\n",
       "    <tr>\n",
       "      <th>4</th>\n",
       "      <td>16</td>\n",
       "      <td>27</td>\n",
       "      <td>Europe</td>\n",
       "      <td>Champions League</td>\n",
       "      <td>male</td>\n",
       "      <td>False</td>\n",
       "      <td>False</td>\n",
       "      <td>2015/2016</td>\n",
       "      <td>2021-08-27T11:26:39.802832</td>\n",
       "      <td>2021-06-13T16:17:31.694</td>\n",
       "      <td>None</td>\n",
       "      <td>2020-07-29T05:00</td>\n",
       "    </tr>\n",
       "    <tr>\n",
       "      <th>...</th>\n",
       "      <td>...</td>\n",
       "      <td>...</td>\n",
       "      <td>...</td>\n",
       "      <td>...</td>\n",
       "      <td>...</td>\n",
       "      <td>...</td>\n",
       "      <td>...</td>\n",
       "      <td>...</td>\n",
       "      <td>...</td>\n",
       "      <td>...</td>\n",
       "      <td>...</td>\n",
       "      <td>...</td>\n",
       "    </tr>\n",
       "    <tr>\n",
       "      <th>62</th>\n",
       "      <td>55</td>\n",
       "      <td>43</td>\n",
       "      <td>Europe</td>\n",
       "      <td>UEFA Euro</td>\n",
       "      <td>male</td>\n",
       "      <td>False</td>\n",
       "      <td>True</td>\n",
       "      <td>2020</td>\n",
       "      <td>2023-02-24T21:26:47.128979</td>\n",
       "      <td>2023-04-27T22:38:34.970148</td>\n",
       "      <td>2023-04-27T22:38:34.970148</td>\n",
       "      <td>2023-02-24T21:26:47.128979</td>\n",
       "    </tr>\n",
       "    <tr>\n",
       "      <th>63</th>\n",
       "      <td>35</td>\n",
       "      <td>75</td>\n",
       "      <td>Europe</td>\n",
       "      <td>UEFA Europa League</td>\n",
       "      <td>male</td>\n",
       "      <td>False</td>\n",
       "      <td>False</td>\n",
       "      <td>1988/1989</td>\n",
       "      <td>2023-06-18T19:28:39.443883</td>\n",
       "      <td>2021-06-13T16:17:31.694</td>\n",
       "      <td>None</td>\n",
       "      <td>2023-06-18T19:28:39.443883</td>\n",
       "    </tr>\n",
       "    <tr>\n",
       "      <th>64</th>\n",
       "      <td>53</td>\n",
       "      <td>106</td>\n",
       "      <td>Europe</td>\n",
       "      <td>UEFA Women's Euro</td>\n",
       "      <td>female</td>\n",
       "      <td>False</td>\n",
       "      <td>True</td>\n",
       "      <td>2022</td>\n",
       "      <td>2023-07-17T21:19:03.032991</td>\n",
       "      <td>2023-07-17T21:21:56.497106</td>\n",
       "      <td>2023-07-17T21:21:56.497106</td>\n",
       "      <td>2023-07-17T21:19:03.032991</td>\n",
       "    </tr>\n",
       "    <tr>\n",
       "      <th>65</th>\n",
       "      <td>72</td>\n",
       "      <td>107</td>\n",
       "      <td>International</td>\n",
       "      <td>Women's World Cup</td>\n",
       "      <td>female</td>\n",
       "      <td>False</td>\n",
       "      <td>True</td>\n",
       "      <td>2023</td>\n",
       "      <td>2023-09-01T12:34:19.705316</td>\n",
       "      <td>2023-09-01T12:35:45.762196</td>\n",
       "      <td>2023-09-01T12:35:45.762196</td>\n",
       "      <td>2023-09-01T12:34:19.705316</td>\n",
       "    </tr>\n",
       "    <tr>\n",
       "      <th>66</th>\n",
       "      <td>72</td>\n",
       "      <td>30</td>\n",
       "      <td>International</td>\n",
       "      <td>Women's World Cup</td>\n",
       "      <td>female</td>\n",
       "      <td>False</td>\n",
       "      <td>True</td>\n",
       "      <td>2019</td>\n",
       "      <td>2023-07-27T10:33:48.273734</td>\n",
       "      <td>2021-06-13T16:17:31.694</td>\n",
       "      <td>None</td>\n",
       "      <td>2023-07-27T10:33:48.273734</td>\n",
       "    </tr>\n",
       "  </tbody>\n",
       "</table>\n",
       "<p>67 rows × 12 columns</p>\n",
       "</div>"
      ],
      "text/plain": [
       "    competition_id  season_id   country_name    competition_name   \n",
       "0                9         27        Germany       1. Bundesliga  \\\n",
       "1               16          4         Europe    Champions League   \n",
       "2               16          1         Europe    Champions League   \n",
       "3               16          2         Europe    Champions League   \n",
       "4               16         27         Europe    Champions League   \n",
       "..             ...        ...            ...                 ...   \n",
       "62              55         43         Europe           UEFA Euro   \n",
       "63              35         75         Europe  UEFA Europa League   \n",
       "64              53        106         Europe   UEFA Women's Euro   \n",
       "65              72        107  International   Women's World Cup   \n",
       "66              72         30  International   Women's World Cup   \n",
       "\n",
       "   competition_gender  competition_youth  competition_international   \n",
       "0                male              False                      False  \\\n",
       "1                male              False                      False   \n",
       "2                male              False                      False   \n",
       "3                male              False                      False   \n",
       "4                male              False                      False   \n",
       "..                ...                ...                        ...   \n",
       "62               male              False                       True   \n",
       "63               male              False                      False   \n",
       "64             female              False                       True   \n",
       "65             female              False                       True   \n",
       "66             female              False                       True   \n",
       "\n",
       "   season_name               match_updated           match_updated_360   \n",
       "0    2015/2016  2023-08-17T23:51:11.837478                        None  \\\n",
       "1    2018/2019  2023-03-07T12:20:48.118250     2021-06-13T16:17:31.694   \n",
       "2    2017/2018  2021-08-27T11:26:39.802832     2021-06-13T16:17:31.694   \n",
       "3    2016/2017  2021-08-27T11:26:39.802832     2021-06-13T16:17:31.694   \n",
       "4    2015/2016  2021-08-27T11:26:39.802832     2021-06-13T16:17:31.694   \n",
       "..         ...                         ...                         ...   \n",
       "62        2020  2023-02-24T21:26:47.128979  2023-04-27T22:38:34.970148   \n",
       "63   1988/1989  2023-06-18T19:28:39.443883     2021-06-13T16:17:31.694   \n",
       "64        2022  2023-07-17T21:19:03.032991  2023-07-17T21:21:56.497106   \n",
       "65        2023  2023-09-01T12:34:19.705316  2023-09-01T12:35:45.762196   \n",
       "66        2019  2023-07-27T10:33:48.273734     2021-06-13T16:17:31.694   \n",
       "\n",
       "           match_available_360             match_available  \n",
       "0                         None  2023-08-17T23:51:11.837478  \n",
       "1                         None  2023-03-07T12:20:48.118250  \n",
       "2                         None  2021-01-23T21:55:30.425330  \n",
       "3                         None            2020-07-29T05:00  \n",
       "4                         None            2020-07-29T05:00  \n",
       "..                         ...                         ...  \n",
       "62  2023-04-27T22:38:34.970148  2023-02-24T21:26:47.128979  \n",
       "63                        None  2023-06-18T19:28:39.443883  \n",
       "64  2023-07-17T21:21:56.497106  2023-07-17T21:19:03.032991  \n",
       "65  2023-09-01T12:35:45.762196  2023-09-01T12:34:19.705316  \n",
       "66                        None  2023-07-27T10:33:48.273734  \n",
       "\n",
       "[67 rows x 12 columns]"
      ]
     },
     "execution_count": 4,
     "metadata": {},
     "output_type": "execute_result"
    }
   ],
   "source": [
    "#To get the data I used statsbombpy\n",
    "sb.competitions()\n"
   ]
  },
  {
   "cell_type": "code",
   "execution_count": 5,
   "id": "3a4c91af",
   "metadata": {},
   "outputs": [
    {
     "name": "stderr",
     "output_type": "stream",
     "text": [
      "c:\\Users\\tobia\\AppData\\Local\\Programs\\Python\\Python311\\Lib\\site-packages\\statsbombpy\\api_client.py:21: NoAuthWarning: credentials were not supplied. open data access only\n",
      "  warnings.warn(\n"
     ]
    },
    {
     "data": {
      "text/html": [
       "<div>\n",
       "<style scoped>\n",
       "    .dataframe tbody tr th:only-of-type {\n",
       "        vertical-align: middle;\n",
       "    }\n",
       "\n",
       "    .dataframe tbody tr th {\n",
       "        vertical-align: top;\n",
       "    }\n",
       "\n",
       "    .dataframe thead th {\n",
       "        text-align: right;\n",
       "    }\n",
       "</style>\n",
       "<table border=\"1\" class=\"dataframe\">\n",
       "  <thead>\n",
       "    <tr style=\"text-align: right;\">\n",
       "      <th></th>\n",
       "      <th>home_team</th>\n",
       "      <th>away_team</th>\n",
       "      <th>home_score</th>\n",
       "      <th>away_score</th>\n",
       "      <th>match_week</th>\n",
       "    </tr>\n",
       "  </thead>\n",
       "  <tbody>\n",
       "    <tr>\n",
       "      <th>305</th>\n",
       "      <td>Bayern Munich</td>\n",
       "      <td>Hamburger SV</td>\n",
       "      <td>5</td>\n",
       "      <td>0</td>\n",
       "      <td>1</td>\n",
       "    </tr>\n",
       "    <tr>\n",
       "      <th>297</th>\n",
       "      <td>Wolfsburg</td>\n",
       "      <td>Eintracht Frankfurt</td>\n",
       "      <td>2</td>\n",
       "      <td>1</td>\n",
       "      <td>1</td>\n",
       "    </tr>\n",
       "    <tr>\n",
       "      <th>298</th>\n",
       "      <td>VfB Stuttgart</td>\n",
       "      <td>FC Köln</td>\n",
       "      <td>1</td>\n",
       "      <td>3</td>\n",
       "      <td>1</td>\n",
       "    </tr>\n",
       "    <tr>\n",
       "      <th>300</th>\n",
       "      <td>Werder Bremen</td>\n",
       "      <td>Schalke 04</td>\n",
       "      <td>0</td>\n",
       "      <td>3</td>\n",
       "      <td>1</td>\n",
       "    </tr>\n",
       "    <tr>\n",
       "      <th>299</th>\n",
       "      <td>Augsburg</td>\n",
       "      <td>Hertha Berlin</td>\n",
       "      <td>0</td>\n",
       "      <td>1</td>\n",
       "      <td>1</td>\n",
       "    </tr>\n",
       "    <tr>\n",
       "      <th>...</th>\n",
       "      <td>...</td>\n",
       "      <td>...</td>\n",
       "      <td>...</td>\n",
       "      <td>...</td>\n",
       "      <td>...</td>\n",
       "    </tr>\n",
       "    <tr>\n",
       "      <th>18</th>\n",
       "      <td>Darmstadt 98</td>\n",
       "      <td>Borussia Mönchengladbach</td>\n",
       "      <td>0</td>\n",
       "      <td>2</td>\n",
       "      <td>34</td>\n",
       "    </tr>\n",
       "    <tr>\n",
       "      <th>17</th>\n",
       "      <td>Borussia Dortmund</td>\n",
       "      <td>FC Köln</td>\n",
       "      <td>2</td>\n",
       "      <td>2</td>\n",
       "      <td>34</td>\n",
       "    </tr>\n",
       "    <tr>\n",
       "      <th>16</th>\n",
       "      <td>Bayer Leverkusen</td>\n",
       "      <td>Ingolstadt</td>\n",
       "      <td>3</td>\n",
       "      <td>2</td>\n",
       "      <td>34</td>\n",
       "    </tr>\n",
       "    <tr>\n",
       "      <th>15</th>\n",
       "      <td>Augsburg</td>\n",
       "      <td>Hamburger SV</td>\n",
       "      <td>1</td>\n",
       "      <td>3</td>\n",
       "      <td>34</td>\n",
       "    </tr>\n",
       "    <tr>\n",
       "      <th>0</th>\n",
       "      <td>Hoffenheim</td>\n",
       "      <td>Schalke 04</td>\n",
       "      <td>1</td>\n",
       "      <td>4</td>\n",
       "      <td>34</td>\n",
       "    </tr>\n",
       "  </tbody>\n",
       "</table>\n",
       "<p>306 rows × 5 columns</p>\n",
       "</div>"
      ],
      "text/plain": [
       "             home_team                 away_team  home_score  away_score   \n",
       "305      Bayern Munich              Hamburger SV           5           0  \\\n",
       "297          Wolfsburg       Eintracht Frankfurt           2           1   \n",
       "298      VfB Stuttgart                   FC Köln           1           3   \n",
       "300      Werder Bremen                Schalke 04           0           3   \n",
       "299           Augsburg             Hertha Berlin           0           1   \n",
       "..                 ...                       ...         ...         ...   \n",
       "18        Darmstadt 98  Borussia Mönchengladbach           0           2   \n",
       "17   Borussia Dortmund                   FC Köln           2           2   \n",
       "16    Bayer Leverkusen                Ingolstadt           3           2   \n",
       "15            Augsburg              Hamburger SV           1           3   \n",
       "0           Hoffenheim                Schalke 04           1           4   \n",
       "\n",
       "     match_week  \n",
       "305           1  \n",
       "297           1  \n",
       "298           1  \n",
       "300           1  \n",
       "299           1  \n",
       "..          ...  \n",
       "18           34  \n",
       "17           34  \n",
       "16           34  \n",
       "15           34  \n",
       "0            34  \n",
       "\n",
       "[306 rows x 5 columns]"
      ]
     },
     "execution_count": 5,
     "metadata": {},
     "output_type": "execute_result"
    }
   ],
   "source": [
    "# Getting the first Bundesliga season from the StatsBomb data set as an example\n",
    "df = sb.matches(competition_id=9, season_id= 27).sort_values('match_week')\n",
    "\n",
    "df_use = df[['home_team', 'away_team', 'home_score', 'away_score', 'match_week']]\n",
    "df_use"
   ]
  },
  {
   "cell_type": "markdown",
   "id": "a58ab449",
   "metadata": {},
   "source": [
    "#### Writing functions for the Elo rating system"
   ]
  },
  {
   "cell_type": "code",
   "execution_count": 6,
   "id": "687bee71",
   "metadata": {},
   "outputs": [],
   "source": [
    "# Expected result function\n",
    "def expected_result(home,away):\n",
    "    dr=home-away\n",
    "    we=(1/(10**(-dr/400)+1))\n",
    "    return [np.round(we,3),1-np.round(we,3)]\n",
    "\n",
    "# Actual result function --> s can be adjusted here\n",
    "def actual_result(home,away, s=15):\n",
    "    if home>away:\n",
    "        wa=0\n",
    "        wl=s\n",
    "    elif home<away:\n",
    "        wa=s\n",
    "        wl=0\n",
    "    elif home==away:\n",
    "        wa=s/2\n",
    "        wl=s/2\n",
    "    return [wl,wa]\n",
    "\n",
    "# Calculate the Elo rating --> k can be adjusted here\n",
    "def calculate_elo(elo_home,elo_away,home_goals,away_goals, k = 15):\n",
    "    \n",
    "    wl,wv=actual_result(home_goals,away_goals)\n",
    "    wel,wev=expected_result(elo_home,elo_away)\n",
    "\n",
    "    elo_home_new=elo_home+k*(wl-wel)\n",
    "    elo_away_new=elo_away+k*(wv-wev)\n",
    "\n",
    "    return elo_home_new,elo_away_new"
   ]
  },
  {
   "cell_type": "markdown",
   "id": "31adb1ab",
   "metadata": {},
   "source": [
    "### Apply the rating system to 1. Bundesliga 2015/2016 season"
   ]
  },
  {
   "cell_type": "code",
   "execution_count": 7,
   "id": "8abc5294",
   "metadata": {},
   "outputs": [
    {
     "name": "stderr",
     "output_type": "stream",
     "text": [
      "C:\\Users\\tobia\\AppData\\Local\\Temp\\ipykernel_41604\\3549570802.py:23: SettingWithCopyWarning: \n",
      "A value is trying to be set on a copy of a slice from a DataFrame.\n",
      "Try using .loc[row_indexer,col_indexer] = value instead\n",
      "\n",
      "See the caveats in the documentation: https://pandas.pydata.org/pandas-docs/stable/user_guide/indexing.html#returning-a-view-versus-a-copy\n",
      "  df_use.loc[idx,'Elo_home_after']=elo_home_new\n",
      "C:\\Users\\tobia\\AppData\\Local\\Temp\\ipykernel_41604\\3549570802.py:24: SettingWithCopyWarning: \n",
      "A value is trying to be set on a copy of a slice from a DataFrame.\n",
      "Try using .loc[row_indexer,col_indexer] = value instead\n",
      "\n",
      "See the caveats in the documentation: https://pandas.pydata.org/pandas-docs/stable/user_guide/indexing.html#returning-a-view-versus-a-copy\n",
      "  df_use.loc[idx,'Elo_away_after']=elo_away_new\n",
      "C:\\Users\\tobia\\AppData\\Local\\Temp\\ipykernel_41604\\3549570802.py:25: SettingWithCopyWarning: \n",
      "A value is trying to be set on a copy of a slice from a DataFrame.\n",
      "Try using .loc[row_indexer,col_indexer] = value instead\n",
      "\n",
      "See the caveats in the documentation: https://pandas.pydata.org/pandas-docs/stable/user_guide/indexing.html#returning-a-view-versus-a-copy\n",
      "  df_use.loc[idx,'Elo_home_before']=elo_home\n",
      "C:\\Users\\tobia\\AppData\\Local\\Temp\\ipykernel_41604\\3549570802.py:26: SettingWithCopyWarning: \n",
      "A value is trying to be set on a copy of a slice from a DataFrame.\n",
      "Try using .loc[row_indexer,col_indexer] = value instead\n",
      "\n",
      "See the caveats in the documentation: https://pandas.pydata.org/pandas-docs/stable/user_guide/indexing.html#returning-a-view-versus-a-copy\n",
      "  df_use.loc[idx,'Elo_away_before']=elo_away\n"
     ]
    }
   ],
   "source": [
    "# Calculating Elo ratings for the season via looping --> R can be adjusted here\n",
    "current_elo={}\n",
    "for idx,row in df_use.iterrows():\n",
    "    \n",
    "    home=row['home_team']\n",
    "    away=row['away_team']\n",
    "    home_goals=row['home_score']\n",
    "    away_goals=row['away_score']    \n",
    "\n",
    "    if home not in current_elo.keys():\n",
    "        current_elo[home]=100\n",
    "    \n",
    "    if away not in current_elo.keys():\n",
    "        current_elo[away]=100\n",
    "    \n",
    "    elo_home=current_elo[home]\n",
    "    elo_away=current_elo[away]\n",
    "    elo_home_new,elo_away_new=calculate_elo(elo_home,elo_away,home_goals,away_goals)\n",
    "\n",
    "    current_elo[home]=elo_home_new\n",
    "    current_elo[away]=elo_away_new\n",
    "    \n",
    "    df_use.loc[idx,'Elo_home_after']=elo_home_new\n",
    "    df_use.loc[idx,'Elo_away_after']=elo_away_new\n",
    "    df_use.loc[idx,'Elo_home_before']=elo_home\n",
    "    df_use.loc[idx,'Elo_away_before']=elo_away\n"
   ]
  },
  {
   "cell_type": "markdown",
   "id": "6aa4617f",
   "metadata": {},
   "source": [
    "### Checking the results of the Elo rating at the end of the season"
   ]
  },
  {
   "cell_type": "code",
   "execution_count": 8,
   "id": "6adf8399",
   "metadata": {},
   "outputs": [
    {
     "data": {
      "text/html": [
       "<div>\n",
       "<style scoped>\n",
       "    .dataframe tbody tr th:only-of-type {\n",
       "        vertical-align: middle;\n",
       "    }\n",
       "\n",
       "    .dataframe tbody tr th {\n",
       "        vertical-align: top;\n",
       "    }\n",
       "\n",
       "    .dataframe thead th {\n",
       "        text-align: right;\n",
       "    }\n",
       "</style>\n",
       "<table border=\"1\" class=\"dataframe\">\n",
       "  <thead>\n",
       "    <tr style=\"text-align: right;\">\n",
       "      <th></th>\n",
       "      <th>Team</th>\n",
       "      <th>Elo</th>\n",
       "      <th>Relative_Elo</th>\n",
       "      <th>Rank_Elo</th>\n",
       "    </tr>\n",
       "  </thead>\n",
       "  <tbody>\n",
       "    <tr>\n",
       "      <th>3</th>\n",
       "      <td>Bayern Munich</td>\n",
       "      <td>6370.030</td>\n",
       "      <td>100.000000</td>\n",
       "      <td>1.0</td>\n",
       "    </tr>\n",
       "    <tr>\n",
       "      <th>5</th>\n",
       "      <td>Borussia Dortmund</td>\n",
       "      <td>5717.605</td>\n",
       "      <td>89.757898</td>\n",
       "      <td>2.0</td>\n",
       "    </tr>\n",
       "    <tr>\n",
       "      <th>6</th>\n",
       "      <td>Bayer Leverkusen</td>\n",
       "      <td>4474.675</td>\n",
       "      <td>70.245745</td>\n",
       "      <td>3.0</td>\n",
       "    </tr>\n",
       "    <tr>\n",
       "      <th>13</th>\n",
       "      <td>Borussia Mönchengladbach</td>\n",
       "      <td>4088.995</td>\n",
       "      <td>64.191142</td>\n",
       "      <td>4.0</td>\n",
       "    </tr>\n",
       "    <tr>\n",
       "      <th>17</th>\n",
       "      <td>Schalke 04</td>\n",
       "      <td>3921.565</td>\n",
       "      <td>61.562740</td>\n",
       "      <td>5.0</td>\n",
       "    </tr>\n",
       "    <tr>\n",
       "      <th>2</th>\n",
       "      <td>FSV Mainz 05</td>\n",
       "      <td>3847.360</td>\n",
       "      <td>60.397832</td>\n",
       "      <td>6.0</td>\n",
       "    </tr>\n",
       "    <tr>\n",
       "      <th>11</th>\n",
       "      <td>Hertha Berlin</td>\n",
       "      <td>3800.935</td>\n",
       "      <td>59.669028</td>\n",
       "      <td>7.0</td>\n",
       "    </tr>\n",
       "    <tr>\n",
       "      <th>14</th>\n",
       "      <td>FC Köln</td>\n",
       "      <td>3529.015</td>\n",
       "      <td>55.400289</td>\n",
       "      <td>8.0</td>\n",
       "    </tr>\n",
       "    <tr>\n",
       "      <th>0</th>\n",
       "      <td>Wolfsburg</td>\n",
       "      <td>3490.720</td>\n",
       "      <td>54.799114</td>\n",
       "      <td>9.0</td>\n",
       "    </tr>\n",
       "    <tr>\n",
       "      <th>16</th>\n",
       "      <td>Hamburger SV</td>\n",
       "      <td>3248.905</td>\n",
       "      <td>51.002978</td>\n",
       "      <td>10.0</td>\n",
       "    </tr>\n",
       "    <tr>\n",
       "      <th>15</th>\n",
       "      <td>Ingolstadt</td>\n",
       "      <td>3221.080</td>\n",
       "      <td>50.566167</td>\n",
       "      <td>11.0</td>\n",
       "    </tr>\n",
       "    <tr>\n",
       "      <th>7</th>\n",
       "      <td>Augsburg</td>\n",
       "      <td>3216.520</td>\n",
       "      <td>50.494582</td>\n",
       "      <td>12.0</td>\n",
       "    </tr>\n",
       "    <tr>\n",
       "      <th>4</th>\n",
       "      <td>Darmstadt 98</td>\n",
       "      <td>3169.750</td>\n",
       "      <td>49.760362</td>\n",
       "      <td>13.0</td>\n",
       "    </tr>\n",
       "    <tr>\n",
       "      <th>8</th>\n",
       "      <td>Hoffenheim</td>\n",
       "      <td>3156.610</td>\n",
       "      <td>49.554084</td>\n",
       "      <td>14.0</td>\n",
       "    </tr>\n",
       "    <tr>\n",
       "      <th>1</th>\n",
       "      <td>Werder Bremen</td>\n",
       "      <td>3098.035</td>\n",
       "      <td>48.634543</td>\n",
       "      <td>15.0</td>\n",
       "    </tr>\n",
       "    <tr>\n",
       "      <th>10</th>\n",
       "      <td>Eintracht Frankfurt</td>\n",
       "      <td>2978.080</td>\n",
       "      <td>46.751428</td>\n",
       "      <td>16.0</td>\n",
       "    </tr>\n",
       "    <tr>\n",
       "      <th>9</th>\n",
       "      <td>VfB Stuttgart</td>\n",
       "      <td>2665.840</td>\n",
       "      <td>41.849724</td>\n",
       "      <td>17.0</td>\n",
       "    </tr>\n",
       "    <tr>\n",
       "      <th>12</th>\n",
       "      <td>Hannover 96</td>\n",
       "      <td>2064.280</td>\n",
       "      <td>32.406127</td>\n",
       "      <td>18.0</td>\n",
       "    </tr>\n",
       "  </tbody>\n",
       "</table>\n",
       "</div>"
      ],
      "text/plain": [
       "                        Team       Elo  Relative_Elo  Rank_Elo\n",
       "3              Bayern Munich  6370.030    100.000000       1.0\n",
       "5          Borussia Dortmund  5717.605     89.757898       2.0\n",
       "6           Bayer Leverkusen  4474.675     70.245745       3.0\n",
       "13  Borussia Mönchengladbach  4088.995     64.191142       4.0\n",
       "17                Schalke 04  3921.565     61.562740       5.0\n",
       "2               FSV Mainz 05  3847.360     60.397832       6.0\n",
       "11             Hertha Berlin  3800.935     59.669028       7.0\n",
       "14                   FC Köln  3529.015     55.400289       8.0\n",
       "0                  Wolfsburg  3490.720     54.799114       9.0\n",
       "16              Hamburger SV  3248.905     51.002978      10.0\n",
       "15                Ingolstadt  3221.080     50.566167      11.0\n",
       "7                   Augsburg  3216.520     50.494582      12.0\n",
       "4               Darmstadt 98  3169.750     49.760362      13.0\n",
       "8                 Hoffenheim  3156.610     49.554084      14.0\n",
       "1              Werder Bremen  3098.035     48.634543      15.0\n",
       "10       Eintracht Frankfurt  2978.080     46.751428      16.0\n",
       "9              VfB Stuttgart  2665.840     41.849724      17.0\n",
       "12               Hannover 96  2064.280     32.406127      18.0"
      ]
     },
     "execution_count": 8,
     "metadata": {},
     "output_type": "execute_result"
    }
   ],
   "source": [
    "# Filtering for the last week\n",
    "df_elo = df_use.loc[df_use.loc[:,'match_week'] == 34]\n",
    "df_elo\n",
    "\n",
    "# Extracting the Elos\n",
    "df_elo_teams = df_elo[['home_team', 'away_team']].melt(value_name= 'Team', var_name='location1')\n",
    "df_elo_elos =  df_elo[['Elo_home_after', 'Elo_away_after']].melt(value_name= 'Elo', var_name='location2')\n",
    "\n",
    "# Putting everything together and calculating a realtive Elo in relation to the highest value set to 100%\n",
    "df_elo_final = pd.DataFrame\n",
    "df_elo_final = pd.concat([df_elo_teams, df_elo_elos], axis=1).drop(columns=['location1', 'location2'])\n",
    "df_elo_final['Relative_Elo'] = df_elo_final['Elo'] / max(df_elo_final['Elo'])*100\n",
    "df_elo_final['Rank_Elo'] = df_elo_final['Elo'].rank(method='min', ascending=False)\n",
    "df_elo_final.sort_values('Elo', ascending= False)\n",
    "\n",
    "\n",
    "\n",
    "\n",
    "\n"
   ]
  },
  {
   "cell_type": "markdown",
   "id": "bfdf8692",
   "metadata": {},
   "source": [
    "#### Putting in the actual finished for 15/16 for comparison"
   ]
  },
  {
   "cell_type": "code",
   "execution_count": 9,
   "id": "069c225d",
   "metadata": {},
   "outputs": [
    {
     "data": {
      "text/html": [
       "<div>\n",
       "<style scoped>\n",
       "    .dataframe tbody tr th:only-of-type {\n",
       "        vertical-align: middle;\n",
       "    }\n",
       "\n",
       "    .dataframe tbody tr th {\n",
       "        vertical-align: top;\n",
       "    }\n",
       "\n",
       "    .dataframe thead th {\n",
       "        text-align: right;\n",
       "    }\n",
       "</style>\n",
       "<table border=\"1\" class=\"dataframe\">\n",
       "  <thead>\n",
       "    <tr style=\"text-align: right;\">\n",
       "      <th></th>\n",
       "      <th>Team</th>\n",
       "      <th>Points</th>\n",
       "      <th>Goal Differential</th>\n",
       "      <th>Rank</th>\n",
       "    </tr>\n",
       "  </thead>\n",
       "  <tbody>\n",
       "    <tr>\n",
       "      <th>16</th>\n",
       "      <td>Bayern Munich</td>\n",
       "      <td>88</td>\n",
       "      <td>63</td>\n",
       "      <td>1</td>\n",
       "    </tr>\n",
       "    <tr>\n",
       "      <th>4</th>\n",
       "      <td>Borussia Dortmund</td>\n",
       "      <td>78</td>\n",
       "      <td>48</td>\n",
       "      <td>2</td>\n",
       "    </tr>\n",
       "    <tr>\n",
       "      <th>13</th>\n",
       "      <td>Bayer Leverkusen</td>\n",
       "      <td>60</td>\n",
       "      <td>16</td>\n",
       "      <td>3</td>\n",
       "    </tr>\n",
       "    <tr>\n",
       "      <th>17</th>\n",
       "      <td>Borussia Mönchengladbach</td>\n",
       "      <td>55</td>\n",
       "      <td>17</td>\n",
       "      <td>4</td>\n",
       "    </tr>\n",
       "    <tr>\n",
       "      <th>15</th>\n",
       "      <td>Schalke 04</td>\n",
       "      <td>52</td>\n",
       "      <td>2</td>\n",
       "      <td>5</td>\n",
       "    </tr>\n",
       "    <tr>\n",
       "      <th>14</th>\n",
       "      <td>FSV Mainz 05</td>\n",
       "      <td>50</td>\n",
       "      <td>4</td>\n",
       "      <td>6</td>\n",
       "    </tr>\n",
       "    <tr>\n",
       "      <th>11</th>\n",
       "      <td>Hertha Berlin</td>\n",
       "      <td>50</td>\n",
       "      <td>0</td>\n",
       "      <td>7</td>\n",
       "    </tr>\n",
       "    <tr>\n",
       "      <th>0</th>\n",
       "      <td>Wolfsburg</td>\n",
       "      <td>45</td>\n",
       "      <td>-2</td>\n",
       "      <td>8</td>\n",
       "    </tr>\n",
       "    <tr>\n",
       "      <th>12</th>\n",
       "      <td>FC Köln</td>\n",
       "      <td>43</td>\n",
       "      <td>-4</td>\n",
       "      <td>9</td>\n",
       "    </tr>\n",
       "    <tr>\n",
       "      <th>10</th>\n",
       "      <td>Hamburger SV</td>\n",
       "      <td>41</td>\n",
       "      <td>-6</td>\n",
       "      <td>10</td>\n",
       "    </tr>\n",
       "    <tr>\n",
       "      <th>6</th>\n",
       "      <td>Ingolstadt</td>\n",
       "      <td>40</td>\n",
       "      <td>-9</td>\n",
       "      <td>11</td>\n",
       "    </tr>\n",
       "    <tr>\n",
       "      <th>3</th>\n",
       "      <td>Augsburg</td>\n",
       "      <td>38</td>\n",
       "      <td>-10</td>\n",
       "      <td>12</td>\n",
       "    </tr>\n",
       "    <tr>\n",
       "      <th>1</th>\n",
       "      <td>Darmstadt 98</td>\n",
       "      <td>38</td>\n",
       "      <td>-15</td>\n",
       "      <td>13</td>\n",
       "    </tr>\n",
       "    <tr>\n",
       "      <th>5</th>\n",
       "      <td>Werder Bremen</td>\n",
       "      <td>38</td>\n",
       "      <td>-15</td>\n",
       "      <td>14</td>\n",
       "    </tr>\n",
       "    <tr>\n",
       "      <th>9</th>\n",
       "      <td>Hoffenheim</td>\n",
       "      <td>37</td>\n",
       "      <td>-15</td>\n",
       "      <td>15</td>\n",
       "    </tr>\n",
       "    <tr>\n",
       "      <th>7</th>\n",
       "      <td>Eintracht Frankfurt</td>\n",
       "      <td>36</td>\n",
       "      <td>-18</td>\n",
       "      <td>16</td>\n",
       "    </tr>\n",
       "    <tr>\n",
       "      <th>2</th>\n",
       "      <td>VfB Stuttgart</td>\n",
       "      <td>33</td>\n",
       "      <td>-25</td>\n",
       "      <td>17</td>\n",
       "    </tr>\n",
       "    <tr>\n",
       "      <th>8</th>\n",
       "      <td>Hannover 96</td>\n",
       "      <td>25</td>\n",
       "      <td>-31</td>\n",
       "      <td>18</td>\n",
       "    </tr>\n",
       "  </tbody>\n",
       "</table>\n",
       "</div>"
      ],
      "text/plain": [
       "                        Team  Points  Goal Differential  Rank\n",
       "16             Bayern Munich      88                 63     1\n",
       "4          Borussia Dortmund      78                 48     2\n",
       "13          Bayer Leverkusen      60                 16     3\n",
       "17  Borussia Mönchengladbach      55                 17     4\n",
       "15                Schalke 04      52                  2     5\n",
       "14              FSV Mainz 05      50                  4     6\n",
       "11             Hertha Berlin      50                  0     7\n",
       "0                  Wolfsburg      45                 -2     8\n",
       "12                   FC Köln      43                 -4     9\n",
       "10              Hamburger SV      41                 -6    10\n",
       "6                 Ingolstadt      40                 -9    11\n",
       "3                   Augsburg      38                -10    12\n",
       "1               Darmstadt 98      38                -15    13\n",
       "5              Werder Bremen      38                -15    14\n",
       "9                 Hoffenheim      37                -15    15\n",
       "7        Eintracht Frankfurt      36                -18    16\n",
       "2              VfB Stuttgart      33                -25    17\n",
       "8                Hannover 96      25                -31    18"
      ]
     },
     "execution_count": 9,
     "metadata": {},
     "output_type": "execute_result"
    }
   ],
   "source": [
    "data = df\n",
    "\n",
    "df_season = pd.DataFrame(data)\n",
    "\n",
    "# Define the point system\n",
    "points_win = 3\n",
    "points_draw = 1\n",
    "points_loss = 0\n",
    "\n",
    "# Create an empty table for the final standings\n",
    "teams = set(df_season['home_team'].unique())\n",
    "table = pd.DataFrame({'Team': list(teams), 'Points': 0, 'Goal Differential': 0})\n",
    "\n",
    "# Update the table based on match results\n",
    "for _, match in df_season.iterrows():\n",
    "    home_team = match['home_team']\n",
    "    away_team = match['away_team']\n",
    "    home_goals = match['home_score']\n",
    "    away_goals = match['away_score']\n",
    "    \n",
    "    # Update points and goal differential\n",
    "    if home_goals > away_goals:\n",
    "        table.loc[table['Team'] == home_team, 'Points'] += points_win\n",
    "        table.loc[table['Team'] == home_team, 'Goal Differential'] += home_goals - away_goals\n",
    "        table.loc[table['Team'] == away_team, 'Goal Differential'] += away_goals - home_goals\n",
    "    elif home_goals < away_goals:\n",
    "        table.loc[table['Team'] == away_team, 'Points'] += points_win\n",
    "        table.loc[table['Team'] == away_team, 'Goal Differential'] += away_goals - home_goals\n",
    "        table.loc[table['Team'] == home_team, 'Goal Differential'] += home_goals - away_goals\n",
    "    else:\n",
    "        table.loc[table['Team'] == home_team, 'Points'] += points_draw\n",
    "        table.loc[table['Team'] == away_team, 'Points'] += points_draw\n",
    "\n",
    "# Sort the table by points and goal differential\n",
    "table = table.sort_values(by=['Points', 'Goal Differential'], ascending=False)\n",
    "\n",
    "# Add the rank column\n",
    "table['Rank'] = range(1, len(table) + 1)\n",
    "\n",
    "table"
   ]
  },
  {
   "cell_type": "code",
   "execution_count": 10,
   "id": "8e9cb0db",
   "metadata": {},
   "outputs": [
    {
     "data": {
      "text/html": [
       "<div>\n",
       "<style scoped>\n",
       "    .dataframe tbody tr th:only-of-type {\n",
       "        vertical-align: middle;\n",
       "    }\n",
       "\n",
       "    .dataframe tbody tr th {\n",
       "        vertical-align: top;\n",
       "    }\n",
       "\n",
       "    .dataframe thead th {\n",
       "        text-align: right;\n",
       "    }\n",
       "</style>\n",
       "<table border=\"1\" class=\"dataframe\">\n",
       "  <thead>\n",
       "    <tr style=\"text-align: right;\">\n",
       "      <th></th>\n",
       "      <th>Team</th>\n",
       "      <th>Goal Differential</th>\n",
       "      <th>Points</th>\n",
       "      <th>Rank</th>\n",
       "      <th>Relative_Points</th>\n",
       "    </tr>\n",
       "  </thead>\n",
       "  <tbody>\n",
       "    <tr>\n",
       "      <th>16</th>\n",
       "      <td>Bayern Munich</td>\n",
       "      <td>63</td>\n",
       "      <td>88</td>\n",
       "      <td>1</td>\n",
       "      <td>100.000000</td>\n",
       "    </tr>\n",
       "    <tr>\n",
       "      <th>4</th>\n",
       "      <td>Borussia Dortmund</td>\n",
       "      <td>48</td>\n",
       "      <td>78</td>\n",
       "      <td>2</td>\n",
       "      <td>88.636364</td>\n",
       "    </tr>\n",
       "    <tr>\n",
       "      <th>13</th>\n",
       "      <td>Bayer Leverkusen</td>\n",
       "      <td>16</td>\n",
       "      <td>60</td>\n",
       "      <td>3</td>\n",
       "      <td>68.181818</td>\n",
       "    </tr>\n",
       "    <tr>\n",
       "      <th>17</th>\n",
       "      <td>Borussia Mönchengladbach</td>\n",
       "      <td>17</td>\n",
       "      <td>55</td>\n",
       "      <td>4</td>\n",
       "      <td>62.500000</td>\n",
       "    </tr>\n",
       "    <tr>\n",
       "      <th>15</th>\n",
       "      <td>Schalke 04</td>\n",
       "      <td>2</td>\n",
       "      <td>52</td>\n",
       "      <td>5</td>\n",
       "      <td>59.090909</td>\n",
       "    </tr>\n",
       "    <tr>\n",
       "      <th>14</th>\n",
       "      <td>FSV Mainz 05</td>\n",
       "      <td>4</td>\n",
       "      <td>50</td>\n",
       "      <td>6</td>\n",
       "      <td>56.818182</td>\n",
       "    </tr>\n",
       "    <tr>\n",
       "      <th>11</th>\n",
       "      <td>Hertha Berlin</td>\n",
       "      <td>0</td>\n",
       "      <td>50</td>\n",
       "      <td>7</td>\n",
       "      <td>56.818182</td>\n",
       "    </tr>\n",
       "    <tr>\n",
       "      <th>0</th>\n",
       "      <td>Wolfsburg</td>\n",
       "      <td>-2</td>\n",
       "      <td>45</td>\n",
       "      <td>8</td>\n",
       "      <td>51.136364</td>\n",
       "    </tr>\n",
       "    <tr>\n",
       "      <th>12</th>\n",
       "      <td>FC Köln</td>\n",
       "      <td>-4</td>\n",
       "      <td>43</td>\n",
       "      <td>9</td>\n",
       "      <td>48.863636</td>\n",
       "    </tr>\n",
       "    <tr>\n",
       "      <th>10</th>\n",
       "      <td>Hamburger SV</td>\n",
       "      <td>-6</td>\n",
       "      <td>41</td>\n",
       "      <td>10</td>\n",
       "      <td>46.590909</td>\n",
       "    </tr>\n",
       "    <tr>\n",
       "      <th>6</th>\n",
       "      <td>Ingolstadt</td>\n",
       "      <td>-9</td>\n",
       "      <td>40</td>\n",
       "      <td>11</td>\n",
       "      <td>45.454545</td>\n",
       "    </tr>\n",
       "    <tr>\n",
       "      <th>3</th>\n",
       "      <td>Augsburg</td>\n",
       "      <td>-10</td>\n",
       "      <td>38</td>\n",
       "      <td>12</td>\n",
       "      <td>43.181818</td>\n",
       "    </tr>\n",
       "    <tr>\n",
       "      <th>1</th>\n",
       "      <td>Darmstadt 98</td>\n",
       "      <td>-15</td>\n",
       "      <td>38</td>\n",
       "      <td>13</td>\n",
       "      <td>43.181818</td>\n",
       "    </tr>\n",
       "    <tr>\n",
       "      <th>5</th>\n",
       "      <td>Werder Bremen</td>\n",
       "      <td>-15</td>\n",
       "      <td>38</td>\n",
       "      <td>14</td>\n",
       "      <td>43.181818</td>\n",
       "    </tr>\n",
       "    <tr>\n",
       "      <th>9</th>\n",
       "      <td>Hoffenheim</td>\n",
       "      <td>-15</td>\n",
       "      <td>37</td>\n",
       "      <td>15</td>\n",
       "      <td>42.045455</td>\n",
       "    </tr>\n",
       "    <tr>\n",
       "      <th>7</th>\n",
       "      <td>Eintracht Frankfurt</td>\n",
       "      <td>-18</td>\n",
       "      <td>36</td>\n",
       "      <td>16</td>\n",
       "      <td>40.909091</td>\n",
       "    </tr>\n",
       "    <tr>\n",
       "      <th>2</th>\n",
       "      <td>VfB Stuttgart</td>\n",
       "      <td>-25</td>\n",
       "      <td>33</td>\n",
       "      <td>17</td>\n",
       "      <td>37.500000</td>\n",
       "    </tr>\n",
       "    <tr>\n",
       "      <th>8</th>\n",
       "      <td>Hannover 96</td>\n",
       "      <td>-31</td>\n",
       "      <td>25</td>\n",
       "      <td>18</td>\n",
       "      <td>28.409091</td>\n",
       "    </tr>\n",
       "  </tbody>\n",
       "</table>\n",
       "</div>"
      ],
      "text/plain": [
       "                        Team  Goal Differential  Points  Rank  Relative_Points\n",
       "16             Bayern Munich                 63      88     1       100.000000\n",
       "4          Borussia Dortmund                 48      78     2        88.636364\n",
       "13          Bayer Leverkusen                 16      60     3        68.181818\n",
       "17  Borussia Mönchengladbach                 17      55     4        62.500000\n",
       "15                Schalke 04                  2      52     5        59.090909\n",
       "14              FSV Mainz 05                  4      50     6        56.818182\n",
       "11             Hertha Berlin                  0      50     7        56.818182\n",
       "0                  Wolfsburg                 -2      45     8        51.136364\n",
       "12                   FC Köln                 -4      43     9        48.863636\n",
       "10              Hamburger SV                 -6      41    10        46.590909\n",
       "6                 Ingolstadt                 -9      40    11        45.454545\n",
       "3                   Augsburg                -10      38    12        43.181818\n",
       "1               Darmstadt 98                -15      38    13        43.181818\n",
       "5              Werder Bremen                -15      38    14        43.181818\n",
       "9                 Hoffenheim                -15      37    15        42.045455\n",
       "7        Eintracht Frankfurt                -18      36    16        40.909091\n",
       "2              VfB Stuttgart                -25      33    17        37.500000\n",
       "8                Hannover 96                -31      25    18        28.409091"
      ]
     },
     "execution_count": 10,
     "metadata": {},
     "output_type": "execute_result"
    }
   ],
   "source": [
    "# Adding relative points with the highest amount set to 100% to be able to compare points and elo rating\n",
    "df_bundesliga_1516 = pd.DataFrame(table, columns =['Team', 'Goal Differential', 'Points', 'Rank'])\n",
    "df_bundesliga_1516['Relative_Points'] = df_bundesliga_1516['Points'] / max(df_bundesliga_1516['Points']) *100\n",
    "df_bundesliga_1516\n"
   ]
  },
  {
   "cell_type": "markdown",
   "id": "a1c7f773",
   "metadata": {},
   "source": [
    "#### Merging and comparing Elo and actual results"
   ]
  },
  {
   "cell_type": "code",
   "execution_count": 11,
   "id": "8fbcc4a3",
   "metadata": {},
   "outputs": [
    {
     "data": {
      "text/plain": [
       "Rank_Difference         4.000000\n",
       "Realtive_Difference    74.543782\n",
       "dtype: float64"
      ]
     },
     "execution_count": 11,
     "metadata": {},
     "output_type": "execute_result"
    }
   ],
   "source": [
    "# Mergung datasets and adding rank difference actual and relative\n",
    "df_merged = pd.merge(df_bundesliga_1516, df_elo_final, on='Team', how='inner')\n",
    "df_merged['Rank_Difference'] = abs(df_merged['Rank'] - df_merged['Rank_Elo'])\n",
    "df_merged['Realtive_Difference'] = abs(df_merged['Relative_Points'] - df_merged['Relative_Elo'])\n",
    "df_merged.aggregate({'Rank_Difference' : 'sum', 'Realtive_Difference' : 'sum'})"
   ]
  },
  {
   "cell_type": "markdown",
   "id": "02daca76",
   "metadata": {},
   "source": [
    "By simply adding up the differences we get the Mean Absolute Error here, which is a decent measure to evaluate the performance of the setup here. It is simple but viable since there are no extreme values to be expected, which could screw with this measure. These two factors would be the thing we optimize for.\n",
    "\n",
    "The initial setup with R = 100, s = 15 and K = 15 gives us these values:\n",
    "\n",
    "Rank_Difference: 6.000000    Realtive_Difference: 74.543782\n",
    "\n",
    "I messed around with the values for R, s and K a little but. While there is some room to improve the relative difference by increasing the s to lets say 25 and reduce the K to 10 (Realtive_Difference: 71.232318) it looks like there is no improvement in the absolute rank difference possible."
   ]
  },
  {
   "cell_type": "markdown",
   "id": "37a4979c",
   "metadata": {},
   "source": [
    "#### Plotting Elo Rank vs Actual Table Ranks"
   ]
  },
  {
   "cell_type": "code",
   "execution_count": 25,
   "id": "72926e92",
   "metadata": {},
   "outputs": [
    {
     "data": {
      "application/vnd.plotly.v1+json": {
       "config": {
        "plotlyServerURL": "https://plot.ly"
       },
       "data": [
        {
         "name": "Actual Final Rank",
         "type": "bar",
         "x": [
          "Bayern Munich",
          "Borussia Dortmund",
          "Bayer Leverkusen",
          "Borussia Mönchengladbach",
          "Schalke 04",
          "FSV Mainz 05",
          "Hertha Berlin",
          "Wolfsburg",
          "FC Köln",
          "Hamburger SV",
          "Ingolstadt",
          "Augsburg",
          "Darmstadt 98",
          "Werder Bremen",
          "Hoffenheim",
          "Eintracht Frankfurt",
          "VfB Stuttgart",
          "Hannover 96"
         ],
         "y": [
          1,
          2,
          3,
          4,
          5,
          6,
          7,
          8,
          9,
          10,
          11,
          12,
          13,
          14,
          15,
          16,
          17,
          18
         ]
        },
        {
         "name": "Final Elo Rank",
         "type": "bar",
         "x": [
          "Bayern Munich",
          "Borussia Dortmund",
          "Bayer Leverkusen",
          "Borussia Mönchengladbach",
          "Schalke 04",
          "FSV Mainz 05",
          "Hertha Berlin",
          "Wolfsburg",
          "FC Köln",
          "Hamburger SV",
          "Ingolstadt",
          "Augsburg",
          "Darmstadt 98",
          "Werder Bremen",
          "Hoffenheim",
          "Eintracht Frankfurt",
          "VfB Stuttgart",
          "Hannover 96"
         ],
         "y": [
          1,
          2,
          3,
          4,
          5,
          6,
          7,
          9,
          8,
          10,
          11,
          12,
          13,
          15,
          14,
          16,
          17,
          18
         ]
        }
       ],
       "layout": {
        "annotations": [
         {
          "align": "left",
          "showarrow": false,
          "text": "Data Source: <a href=”https://github.com/statsbomb/open-data”>StatsBomb</a> <br>Viz: <a href=”https://twitter.com/_prospecttheory”>@_prospecttheory</a> <br> <br> <br> <br> <br>",
          "x": -0.05,
          "xref": "paper",
          "y": -0.65,
          "yref": "paper"
         }
        ],
        "height": 750,
        "template": {
         "data": {
          "bar": [
           {
            "error_x": {
             "color": "#f2f5fa"
            },
            "error_y": {
             "color": "#f2f5fa"
            },
            "marker": {
             "line": {
              "color": "rgb(17,17,17)",
              "width": 0.5
             },
             "pattern": {
              "fillmode": "overlay",
              "size": 10,
              "solidity": 0.2
             }
            },
            "type": "bar"
           }
          ],
          "barpolar": [
           {
            "marker": {
             "line": {
              "color": "rgb(17,17,17)",
              "width": 0.5
             },
             "pattern": {
              "fillmode": "overlay",
              "size": 10,
              "solidity": 0.2
             }
            },
            "type": "barpolar"
           }
          ],
          "carpet": [
           {
            "aaxis": {
             "endlinecolor": "#A2B1C6",
             "gridcolor": "#506784",
             "linecolor": "#506784",
             "minorgridcolor": "#506784",
             "startlinecolor": "#A2B1C6"
            },
            "baxis": {
             "endlinecolor": "#A2B1C6",
             "gridcolor": "#506784",
             "linecolor": "#506784",
             "minorgridcolor": "#506784",
             "startlinecolor": "#A2B1C6"
            },
            "type": "carpet"
           }
          ],
          "choropleth": [
           {
            "colorbar": {
             "outlinewidth": 0,
             "ticks": ""
            },
            "type": "choropleth"
           }
          ],
          "contour": [
           {
            "colorbar": {
             "outlinewidth": 0,
             "ticks": ""
            },
            "colorscale": [
             [
              0,
              "#0d0887"
             ],
             [
              0.1111111111111111,
              "#46039f"
             ],
             [
              0.2222222222222222,
              "#7201a8"
             ],
             [
              0.3333333333333333,
              "#9c179e"
             ],
             [
              0.4444444444444444,
              "#bd3786"
             ],
             [
              0.5555555555555556,
              "#d8576b"
             ],
             [
              0.6666666666666666,
              "#ed7953"
             ],
             [
              0.7777777777777778,
              "#fb9f3a"
             ],
             [
              0.8888888888888888,
              "#fdca26"
             ],
             [
              1,
              "#f0f921"
             ]
            ],
            "type": "contour"
           }
          ],
          "contourcarpet": [
           {
            "colorbar": {
             "outlinewidth": 0,
             "ticks": ""
            },
            "type": "contourcarpet"
           }
          ],
          "heatmap": [
           {
            "colorbar": {
             "outlinewidth": 0,
             "ticks": ""
            },
            "colorscale": [
             [
              0,
              "#0d0887"
             ],
             [
              0.1111111111111111,
              "#46039f"
             ],
             [
              0.2222222222222222,
              "#7201a8"
             ],
             [
              0.3333333333333333,
              "#9c179e"
             ],
             [
              0.4444444444444444,
              "#bd3786"
             ],
             [
              0.5555555555555556,
              "#d8576b"
             ],
             [
              0.6666666666666666,
              "#ed7953"
             ],
             [
              0.7777777777777778,
              "#fb9f3a"
             ],
             [
              0.8888888888888888,
              "#fdca26"
             ],
             [
              1,
              "#f0f921"
             ]
            ],
            "type": "heatmap"
           }
          ],
          "heatmapgl": [
           {
            "colorbar": {
             "outlinewidth": 0,
             "ticks": ""
            },
            "colorscale": [
             [
              0,
              "#0d0887"
             ],
             [
              0.1111111111111111,
              "#46039f"
             ],
             [
              0.2222222222222222,
              "#7201a8"
             ],
             [
              0.3333333333333333,
              "#9c179e"
             ],
             [
              0.4444444444444444,
              "#bd3786"
             ],
             [
              0.5555555555555556,
              "#d8576b"
             ],
             [
              0.6666666666666666,
              "#ed7953"
             ],
             [
              0.7777777777777778,
              "#fb9f3a"
             ],
             [
              0.8888888888888888,
              "#fdca26"
             ],
             [
              1,
              "#f0f921"
             ]
            ],
            "type": "heatmapgl"
           }
          ],
          "histogram": [
           {
            "marker": {
             "pattern": {
              "fillmode": "overlay",
              "size": 10,
              "solidity": 0.2
             }
            },
            "type": "histogram"
           }
          ],
          "histogram2d": [
           {
            "colorbar": {
             "outlinewidth": 0,
             "ticks": ""
            },
            "colorscale": [
             [
              0,
              "#0d0887"
             ],
             [
              0.1111111111111111,
              "#46039f"
             ],
             [
              0.2222222222222222,
              "#7201a8"
             ],
             [
              0.3333333333333333,
              "#9c179e"
             ],
             [
              0.4444444444444444,
              "#bd3786"
             ],
             [
              0.5555555555555556,
              "#d8576b"
             ],
             [
              0.6666666666666666,
              "#ed7953"
             ],
             [
              0.7777777777777778,
              "#fb9f3a"
             ],
             [
              0.8888888888888888,
              "#fdca26"
             ],
             [
              1,
              "#f0f921"
             ]
            ],
            "type": "histogram2d"
           }
          ],
          "histogram2dcontour": [
           {
            "colorbar": {
             "outlinewidth": 0,
             "ticks": ""
            },
            "colorscale": [
             [
              0,
              "#0d0887"
             ],
             [
              0.1111111111111111,
              "#46039f"
             ],
             [
              0.2222222222222222,
              "#7201a8"
             ],
             [
              0.3333333333333333,
              "#9c179e"
             ],
             [
              0.4444444444444444,
              "#bd3786"
             ],
             [
              0.5555555555555556,
              "#d8576b"
             ],
             [
              0.6666666666666666,
              "#ed7953"
             ],
             [
              0.7777777777777778,
              "#fb9f3a"
             ],
             [
              0.8888888888888888,
              "#fdca26"
             ],
             [
              1,
              "#f0f921"
             ]
            ],
            "type": "histogram2dcontour"
           }
          ],
          "mesh3d": [
           {
            "colorbar": {
             "outlinewidth": 0,
             "ticks": ""
            },
            "type": "mesh3d"
           }
          ],
          "parcoords": [
           {
            "line": {
             "colorbar": {
              "outlinewidth": 0,
              "ticks": ""
             }
            },
            "type": "parcoords"
           }
          ],
          "pie": [
           {
            "automargin": true,
            "type": "pie"
           }
          ],
          "scatter": [
           {
            "marker": {
             "line": {
              "color": "#283442"
             }
            },
            "type": "scatter"
           }
          ],
          "scatter3d": [
           {
            "line": {
             "colorbar": {
              "outlinewidth": 0,
              "ticks": ""
             }
            },
            "marker": {
             "colorbar": {
              "outlinewidth": 0,
              "ticks": ""
             }
            },
            "type": "scatter3d"
           }
          ],
          "scattercarpet": [
           {
            "marker": {
             "colorbar": {
              "outlinewidth": 0,
              "ticks": ""
             }
            },
            "type": "scattercarpet"
           }
          ],
          "scattergeo": [
           {
            "marker": {
             "colorbar": {
              "outlinewidth": 0,
              "ticks": ""
             }
            },
            "type": "scattergeo"
           }
          ],
          "scattergl": [
           {
            "marker": {
             "line": {
              "color": "#283442"
             }
            },
            "type": "scattergl"
           }
          ],
          "scattermapbox": [
           {
            "marker": {
             "colorbar": {
              "outlinewidth": 0,
              "ticks": ""
             }
            },
            "type": "scattermapbox"
           }
          ],
          "scatterpolar": [
           {
            "marker": {
             "colorbar": {
              "outlinewidth": 0,
              "ticks": ""
             }
            },
            "type": "scatterpolar"
           }
          ],
          "scatterpolargl": [
           {
            "marker": {
             "colorbar": {
              "outlinewidth": 0,
              "ticks": ""
             }
            },
            "type": "scatterpolargl"
           }
          ],
          "scatterternary": [
           {
            "marker": {
             "colorbar": {
              "outlinewidth": 0,
              "ticks": ""
             }
            },
            "type": "scatterternary"
           }
          ],
          "surface": [
           {
            "colorbar": {
             "outlinewidth": 0,
             "ticks": ""
            },
            "colorscale": [
             [
              0,
              "#0d0887"
             ],
             [
              0.1111111111111111,
              "#46039f"
             ],
             [
              0.2222222222222222,
              "#7201a8"
             ],
             [
              0.3333333333333333,
              "#9c179e"
             ],
             [
              0.4444444444444444,
              "#bd3786"
             ],
             [
              0.5555555555555556,
              "#d8576b"
             ],
             [
              0.6666666666666666,
              "#ed7953"
             ],
             [
              0.7777777777777778,
              "#fb9f3a"
             ],
             [
              0.8888888888888888,
              "#fdca26"
             ],
             [
              1,
              "#f0f921"
             ]
            ],
            "type": "surface"
           }
          ],
          "table": [
           {
            "cells": {
             "fill": {
              "color": "#506784"
             },
             "line": {
              "color": "rgb(17,17,17)"
             }
            },
            "header": {
             "fill": {
              "color": "#2a3f5f"
             },
             "line": {
              "color": "rgb(17,17,17)"
             }
            },
            "type": "table"
           }
          ]
         },
         "layout": {
          "annotationdefaults": {
           "arrowcolor": "#f2f5fa",
           "arrowhead": 0,
           "arrowwidth": 1
          },
          "autotypenumbers": "strict",
          "coloraxis": {
           "colorbar": {
            "outlinewidth": 0,
            "ticks": ""
           }
          },
          "colorscale": {
           "diverging": [
            [
             0,
             "#8e0152"
            ],
            [
             0.1,
             "#c51b7d"
            ],
            [
             0.2,
             "#de77ae"
            ],
            [
             0.3,
             "#f1b6da"
            ],
            [
             0.4,
             "#fde0ef"
            ],
            [
             0.5,
             "#f7f7f7"
            ],
            [
             0.6,
             "#e6f5d0"
            ],
            [
             0.7,
             "#b8e186"
            ],
            [
             0.8,
             "#7fbc41"
            ],
            [
             0.9,
             "#4d9221"
            ],
            [
             1,
             "#276419"
            ]
           ],
           "sequential": [
            [
             0,
             "#0d0887"
            ],
            [
             0.1111111111111111,
             "#46039f"
            ],
            [
             0.2222222222222222,
             "#7201a8"
            ],
            [
             0.3333333333333333,
             "#9c179e"
            ],
            [
             0.4444444444444444,
             "#bd3786"
            ],
            [
             0.5555555555555556,
             "#d8576b"
            ],
            [
             0.6666666666666666,
             "#ed7953"
            ],
            [
             0.7777777777777778,
             "#fb9f3a"
            ],
            [
             0.8888888888888888,
             "#fdca26"
            ],
            [
             1,
             "#f0f921"
            ]
           ],
           "sequentialminus": [
            [
             0,
             "#0d0887"
            ],
            [
             0.1111111111111111,
             "#46039f"
            ],
            [
             0.2222222222222222,
             "#7201a8"
            ],
            [
             0.3333333333333333,
             "#9c179e"
            ],
            [
             0.4444444444444444,
             "#bd3786"
            ],
            [
             0.5555555555555556,
             "#d8576b"
            ],
            [
             0.6666666666666666,
             "#ed7953"
            ],
            [
             0.7777777777777778,
             "#fb9f3a"
            ],
            [
             0.8888888888888888,
             "#fdca26"
            ],
            [
             1,
             "#f0f921"
            ]
           ]
          },
          "colorway": [
           "#636efa",
           "#EF553B",
           "#00cc96",
           "#ab63fa",
           "#FFA15A",
           "#19d3f3",
           "#FF6692",
           "#B6E880",
           "#FF97FF",
           "#FECB52"
          ],
          "font": {
           "color": "#f2f5fa"
          },
          "geo": {
           "bgcolor": "rgb(17,17,17)",
           "lakecolor": "rgb(17,17,17)",
           "landcolor": "rgb(17,17,17)",
           "showlakes": true,
           "showland": true,
           "subunitcolor": "#506784"
          },
          "hoverlabel": {
           "align": "left"
          },
          "hovermode": "closest",
          "mapbox": {
           "style": "dark"
          },
          "paper_bgcolor": "rgb(17,17,17)",
          "plot_bgcolor": "rgb(17,17,17)",
          "polar": {
           "angularaxis": {
            "gridcolor": "#506784",
            "linecolor": "#506784",
            "ticks": ""
           },
           "bgcolor": "rgb(17,17,17)",
           "radialaxis": {
            "gridcolor": "#506784",
            "linecolor": "#506784",
            "ticks": ""
           }
          },
          "scene": {
           "xaxis": {
            "backgroundcolor": "rgb(17,17,17)",
            "gridcolor": "#506784",
            "gridwidth": 2,
            "linecolor": "#506784",
            "showbackground": true,
            "ticks": "",
            "zerolinecolor": "#C8D4E3"
           },
           "yaxis": {
            "backgroundcolor": "rgb(17,17,17)",
            "gridcolor": "#506784",
            "gridwidth": 2,
            "linecolor": "#506784",
            "showbackground": true,
            "ticks": "",
            "zerolinecolor": "#C8D4E3"
           },
           "zaxis": {
            "backgroundcolor": "rgb(17,17,17)",
            "gridcolor": "#506784",
            "gridwidth": 2,
            "linecolor": "#506784",
            "showbackground": true,
            "ticks": "",
            "zerolinecolor": "#C8D4E3"
           }
          },
          "shapedefaults": {
           "line": {
            "color": "#f2f5fa"
           }
          },
          "sliderdefaults": {
           "bgcolor": "#C8D4E3",
           "bordercolor": "rgb(17,17,17)",
           "borderwidth": 1,
           "tickwidth": 0
          },
          "ternary": {
           "aaxis": {
            "gridcolor": "#506784",
            "linecolor": "#506784",
            "ticks": ""
           },
           "baxis": {
            "gridcolor": "#506784",
            "linecolor": "#506784",
            "ticks": ""
           },
           "bgcolor": "rgb(17,17,17)",
           "caxis": {
            "gridcolor": "#506784",
            "linecolor": "#506784",
            "ticks": ""
           }
          },
          "title": {
           "x": 0.05
          },
          "updatemenudefaults": {
           "bgcolor": "#506784",
           "borderwidth": 0
          },
          "xaxis": {
           "automargin": true,
           "gridcolor": "#283442",
           "linecolor": "#506784",
           "ticks": "",
           "title": {
            "standoff": 15
           },
           "zerolinecolor": "#283442",
           "zerolinewidth": 2
          },
          "yaxis": {
           "automargin": true,
           "gridcolor": "#283442",
           "linecolor": "#506784",
           "ticks": "",
           "title": {
            "standoff": 15
           },
           "zerolinecolor": "#283442",
           "zerolinewidth": 2
          }
         }
        },
        "title": {
         "text": "<b>Comparison - Final Elo Rank vs Actual Final Table</b>"
        },
        "width": 1500,
        "xaxis": {
         "tickfont": {
          "size": 14
         }
        },
        "yaxis": {
         "tickfont": {
          "size": 14
         },
         "title": {
          "font": {
           "size": 16
          },
          "text": "Rank #"
         }
        }
       }
      }
     },
     "metadata": {},
     "output_type": "display_data"
    }
   ],
   "source": [
    "# Plotting rank comparisons\n",
    "fig = go.Figure()\n",
    "fig.add_trace(go.Bar(x=df_merged['Team'], y= df_merged['Rank'],\n",
    "                name='Actual Final Rank'\n",
    "                ))\n",
    "fig.add_trace(go.Bar(x=df_merged['Team'], y= df_merged['Rank_Elo'],\n",
    "                name='Final Elo Rank'\n",
    "                ))\n",
    "\n",
    "fig.update_layout(\n",
    "   title='<b>Comparison - Final Elo Rank vs Actual Final Table</b>',\n",
    "   template = \"plotly_dark\",\n",
    "   xaxis_tickfont_size=14,\n",
    "   width = 1500,\n",
    "   height = 750,\n",
    "   yaxis=dict(\n",
    "        title='Rank #',\n",
    "        titlefont_size=16,\n",
    "        tickfont_size=14))\n",
    "\n",
    "fig.add_annotation(text='Data Source: <a href=”https://github.com/statsbomb/open-data”>StatsBomb</a> <br>Viz: <a href=”https://twitter.com/_prospecttheory”>@_prospecttheory</a> <br> <br> <br> <br> <br>', \n",
    "                    align='left',\n",
    "                    showarrow=False,\n",
    "                    xref='paper',\n",
    "                    yref='paper',\n",
    "                    x= -0.05,\n",
    "                    y= -0.65)\n",
    "\n",
    "\n",
    "fig.show()"
   ]
  },
  {
   "cell_type": "markdown",
   "id": "c45a3954",
   "metadata": {},
   "source": [
    "Only Köln and Wolfsburg are swapped and the trio Bremen, Hoffenheim and Darmstadt are not in the right order. But since the rank difference is never bigger than two, I would rate the performance of the system as decent. Optimizing the variables R, s and k has some value, however I would rate the gains as negliable."
   ]
  }
 ],
 "metadata": {
  "kernelspec": {
   "display_name": "Python 3 (ipykernel)",
   "language": "python",
   "name": "python3"
  },
  "language_info": {
   "codemirror_mode": {
    "name": "ipython",
    "version": 3
   },
   "file_extension": ".py",
   "mimetype": "text/x-python",
   "name": "python",
   "nbconvert_exporter": "python",
   "pygments_lexer": "ipython3",
   "version": "3.11.3"
  },
  "toc": {
   "base_numbering": 1,
   "nav_menu": {},
   "number_sections": true,
   "sideBar": true,
   "skip_h1_title": false,
   "title_cell": "Table of Contents",
   "title_sidebar": "Contents",
   "toc_cell": false,
   "toc_position": {},
   "toc_section_display": true,
   "toc_window_display": false
  },
  "varInspector": {
   "cols": {
    "lenName": 16,
    "lenType": 16,
    "lenVar": 40
   },
   "kernels_config": {
    "python": {
     "delete_cmd_postfix": "",
     "delete_cmd_prefix": "del ",
     "library": "var_list.py",
     "varRefreshCmd": "print(var_dic_list())"
    },
    "r": {
     "delete_cmd_postfix": ") ",
     "delete_cmd_prefix": "rm(",
     "library": "var_list.r",
     "varRefreshCmd": "cat(var_dic_list()) "
    }
   },
   "types_to_exclude": [
    "module",
    "function",
    "builtin_function_or_method",
    "instance",
    "_Feature"
   ],
   "window_display": false
  }
 },
 "nbformat": 4,
 "nbformat_minor": 5
}
